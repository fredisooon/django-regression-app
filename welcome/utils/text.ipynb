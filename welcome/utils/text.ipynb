{
 "cells": [
  {
   "cell_type": "code",
   "execution_count": 27,
   "metadata": {},
   "outputs": [
    {
     "name": "stdout",
     "output_type": "stream",
     "text": [
      "                            OLS Regression Results                            \n",
      "==============================================================================\n",
      "Dep. Variable:                      y   R-squared:                       0.211\n",
      "Model:                            OLS   Adj. R-squared:                  0.178\n",
      "Method:                 Least Squares   F-statistic:                     6.402\n",
      "Date:                Sun, 05 Feb 2023   Prob (F-statistic):            0.00343\n",
      "Time:                        16:11:40   Log-Likelihood:                -132.91\n",
      "No. Observations:                  51   AIC:                             271.8\n",
      "Df Residuals:                      48   BIC:                             277.6\n",
      "Df Model:                           2                                         \n",
      "Covariance Type:            nonrobust                                         \n",
      "==============================================================================\n",
      "                 coef    std err          t      P>|t|      [0.025      0.975]\n",
      "------------------------------------------------------------------------------\n",
      "x1          2.215e-05   7.24e-06      3.059      0.004    7.59e-06    3.67e-05\n",
      "x2            -0.2642      0.113     -2.346      0.023      -0.491      -0.038\n",
      "const         94.5979      5.338     17.723      0.000      83.866     105.330\n",
      "==============================================================================\n",
      "Omnibus:                        6.460   Durbin-Watson:                   1.972\n",
      "Prob(Omnibus):                  0.040   Jarque-Bera (JB):                5.430\n",
      "Skew:                          -0.750   Prob(JB):                       0.0662\n",
      "Kurtosis:                       3.552   Cond. No.                     7.05e+06\n",
      "==============================================================================\n",
      "\n",
      "Notes:\n",
      "[1] Standard Errors assume that the covariance matrix of the errors is correctly specified.\n",
      "[2] The condition number is large, 7.05e+06. This might indicate that there are\n",
      "strong multicollinearity or other numerical problems.\n"
     ]
    }
   ],
   "source": [
    "import statsmodels.api as sm\n",
    "import numpy as np\n",
    "import pandas as pd\n",
    "import math\n",
    "from sklearn.preprocessing import PolynomialFeatures\n",
    "from sklearn.linear_model import LinearRegression\n",
    "\n",
    "df = pd.read_csv('/Users/fyodor/Documents/Datasets/states.csv')\n",
    "\n",
    "x = np.array((df['white']))\n",
    "y = np.array((df['hs_grad']))\n",
    "\n",
    "X = np.column_stack([x**3, x, np.ones_like(x)])\n",
    "\n",
    "model = sm.OLS(y, X)\n",
    "result = model.fit()\n",
    "\n",
    "print(result.summary())\n"
   ]
  }
 ],
 "metadata": {
  "kernelspec": {
   "display_name": "Python 3.10.7 64-bit",
   "language": "python",
   "name": "python3"
  },
  "language_info": {
   "codemirror_mode": {
    "name": "ipython",
    "version": 3
   },
   "file_extension": ".py",
   "mimetype": "text/x-python",
   "name": "python",
   "nbconvert_exporter": "python",
   "pygments_lexer": "ipython3",
   "version": "3.10.7"
  },
  "orig_nbformat": 4,
  "vscode": {
   "interpreter": {
    "hash": "aee8b7b246df8f9039afb4144a1f6fd8d2ca17a180786b69acc140d282b71a49"
   }
  }
 },
 "nbformat": 4,
 "nbformat_minor": 2
}
