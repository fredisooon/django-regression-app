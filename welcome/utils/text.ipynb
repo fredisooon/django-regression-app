{
 "cells": [
  {
   "cell_type": "code",
   "execution_count": 52,
   "metadata": {},
   "outputs": [
    {
     "data": {
      "text/plain": [
       "5.317565604008706"
      ]
     },
     "execution_count": 52,
     "metadata": {},
     "output_type": "execute_result"
    }
   ],
   "source": [
    "import statsmodels.api as sm\n",
    "import numpy as np\n",
    "import pandas as pd\n",
    "import math\n",
    "\n",
    "df = pd.read_csv('/Users/fyodor/Documents/Datasets/states.csv')\n",
    "\n",
    "X = np.array((df['hs_grad'])).reshape((-1, 1))\n",
    "Y = np.array((df['white']))\n",
    "X = sm.add_constant(X)  # Adds a constant term to the predictor\n",
    "\n",
    "\n",
    "est=sm.OLS(Y, X).fit()\n",
    "#est = est.fit()\n",
    "est.summary()\n",
    "est.params[0]\n",
    "\n"
   ]
  }
 ],
 "metadata": {
  "language_info": {
   "name": "python"
  },
  "orig_nbformat": 4
 },
 "nbformat": 4,
 "nbformat_minor": 2
}
