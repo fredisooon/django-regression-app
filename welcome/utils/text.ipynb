{
 "cells": [
  {
   "cell_type": "code",
   "execution_count": 5,
   "metadata": {
    "scrolled": true
   },
   "outputs": [
    {
     "name": "stdout",
     "output_type": "stream",
     "text": [
      "['/Users/fyodor/Documents/DjangoProject/regressionApp/welcome/utils', '/usr/local/Cellar/python@3.11/3.11.1/Frameworks/Python.framework/Versions/3.11/lib/python311.zip', '/usr/local/Cellar/python@3.11/3.11.1/Frameworks/Python.framework/Versions/3.11/lib/python3.11', '/usr/local/Cellar/python@3.11/3.11.1/Frameworks/Python.framework/Versions/3.11/lib/python3.11/lib-dynload', '', '/usr/local/Cellar/jupyterlab/3.4.8_1/libexec/lib/python3.11/site-packages', '/usr/local/opt/ipython/libexec/lib/python3.11/site-packages', '/usr/local/opt/pygments/lib/python3.11/site-packages', '/usr/local/Cellar/pygments/2.14.0/libexec/lib/python3.11/site-packages', '/usr/local/opt/six/lib/python3.11/site-packages', '/usr/local/lib/python3.11/site-packages']\n"
     ]
    }
   ],
   "source": [
    "# import statsmodels.api as sm\n",
    "# import numpy as np\n",
    "# import pandas as pd\n",
    "# import math\n",
    "# from sklearn.preprocessing import PolynomialFeatures\n",
    "# from sklearn.linear_model import LinearRegression\n",
    "\n",
    "# df = pd.read_csv('/Users/fyodor/Documents/Datasets/states.csv')\n",
    "\n",
    "# x = np.array((df['white']))\n",
    "# y = np.array((df['hs_grad']))\n",
    "\n",
    "# X = np.column_stack([x**3, x, np.ones_like(x)])\n",
    "\n",
    "# model = sm.OLS(y, X)\n",
    "# result = model.fit()\n",
    "\n",
    "# print(result.summary())\n",
    "import sys\n",
    "print(sys.path)\n",
    "\n"
   ]
  },
  {
   "cell_type": "code",
   "execution_count": null,
   "metadata": {},
   "outputs": [],
   "source": []
  }
 ],
 "metadata": {
  "kernelspec": {
   "display_name": "Python 3 (ipykernel)",
   "language": "python",
   "name": "python3"
  },
  "language_info": {
   "codemirror_mode": {
    "name": "ipython",
    "version": 3
   },
   "file_extension": ".py",
   "mimetype": "text/x-python",
   "name": "python",
   "nbconvert_exporter": "python",
   "pygments_lexer": "ipython3",
   "version": "3.11.1"
  },
  "vscode": {
   "interpreter": {
    "hash": "aee8b7b246df8f9039afb4144a1f6fd8d2ca17a180786b69acc140d282b71a49"
   }
  }
 },
 "nbformat": 4,
 "nbformat_minor": 2
}
